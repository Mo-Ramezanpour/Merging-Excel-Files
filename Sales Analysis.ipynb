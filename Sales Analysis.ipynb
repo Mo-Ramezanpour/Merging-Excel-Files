{
 "cells": [
  {
   "cell_type": "code",
   "execution_count": 6,
   "metadata": {},
   "outputs": [],
   "source": [
    "import pandas as pd\n",
    "import datetime as dt\n",
    "import calendar\n",
    "\n",
    "# List of Excel file paths to append\n",
    "excel_files = [\"Ireland.xlsx\", \"Japan.xlsx\", \"Norway.xlsx\"]\n",
    "\n",
    "# Initialize an empty list to store DataFrames\n",
    "dfs = []\n",
    "\n",
    "# Iterate over each Excel file and read data into a DataFrame\n",
    "for file in excel_files:\n",
    "    df = pd.read_excel(file)\n",
    "    df['Month'] = pd.DatetimeIndex(df['Date']).month\n",
    "    df[\"Year\"] = pd.DatetimeIndex(df[\"Date\"]).year\n",
    "    df['Sales'] = df['Quantity'] * df['Price']\n",
    "    df['Sales'] = df['Sales'].map('${:,.0f}'.format)\n",
    "    df['Date'] = df['Date'].dt.strftime('%m/%d/%Y')\n",
    "    df[\"Month_Name\"] = df[\"Month\"].apply(lambda x: calendar.month_abbr[x])\n",
    "    dfs.append(df)\n",
    "\n",
    "# Concatenate all DataFrames into a single DataFrame\n",
    "combined_data = pd.concat(dfs, ignore_index=True)\n",
    "\n",
    "# Convert 'Sales' column back to float for calculations\n",
    "combined_data['Sales'] = combined_data['Sales'].replace('[\\\\$,]', '', regex=True).astype(float)\n",
    "\n",
    "# Calculate the total sales for each month\n",
    "monthly_sales = combined_data.groupby(['Year', 'Month'])['Sales'].transform('sum')\n",
    "\n",
    "# Calculate the total sales for each year\n",
    "yearly_sales = combined_data.groupby(['Year'])['Sales'].transform('sum')\n",
    "\n",
    "# Calculate the percentage of total sales for each day and each month\n",
    "combined_data['%_of_Total_Sales'] = combined_data['Sales'] / monthly_sales\n",
    "combined_data['%_of_Total_Sales_in_Year'] = monthly_sales / yearly_sales\n",
    "\n",
    "# Add a new column for the total monthly sales\n",
    "combined_data['Monthly_Sales'] = monthly_sales\n",
    "\n",
    "# Format the percentage and monthly sales to be more readable\n",
    "combined_data['%_of_Total_Sales'] = combined_data['%_of_Total_Sales'].map('{:.2%}'.format)\n",
    "combined_data['%_of_Total_Sales_in_Year'] = combined_data['%_of_Total_Sales_in_Year'].map('{:.2%}'.format)\n",
    "combined_data['Monthly_Sales'] = combined_data['Monthly_Sales'].map('${:,.0f}'.format)\n",
    "\n",
    "# Convert 'Sales' column back to currency format\n",
    "combined_data['Sales'] = combined_data['Sales'].map('${:,.0f}'.format)\n",
    "\n",
    "# Specify the path for the output combined Excel file\n",
    "output_file = \"Total_Sales.xlsx\"\n",
    "\n",
    "# Write the combined DataFrame to an Excel file\n",
    "combined_data.to_excel(output_file, index=False)\n"
   ]
  }
 ],
 "metadata": {
  "kernelspec": {
   "display_name": "Python 3",
   "language": "python",
   "name": "python3"
  },
  "language_info": {
   "codemirror_mode": {
    "name": "ipython",
    "version": 3
   },
   "file_extension": ".py",
   "mimetype": "text/x-python",
   "name": "python",
   "nbconvert_exporter": "python",
   "pygments_lexer": "ipython3",
   "version": "3.12.0"
  }
 },
 "nbformat": 4,
 "nbformat_minor": 2
}
